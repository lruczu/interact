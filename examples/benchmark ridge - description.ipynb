{
 "cells": [
  {
   "cell_type": "code",
   "execution_count": 1,
   "metadata": {},
   "outputs": [],
   "source": [
    "from functools import reduce\n",
    "from typing import List\n",
    "\n",
    "import numpy as np\n",
    "from sklearn.feature_extraction.text import CountVectorizer\n",
    "from tensorflow.keras.callbacks import EarlyStopping\n",
    "from tensorflow.keras.models import Model\n",
    "\n",
    "from interact.fields import FieldsManager, SparseField\n",
    "from interact.layers import SparseLinear, AddBias\n",
    "from interact.utils import to_sequences\n",
    "\n",
    "from utils import get_dataset, DataSet, cost"
   ]
  },
  {
   "cell_type": "code",
   "execution_count": 2,
   "metadata": {},
   "outputs": [],
   "source": [
    "train = get_dataset(DataSet.Train)\n",
    "valid = get_dataset(DataSet.Valid)"
   ]
  },
  {
   "cell_type": "code",
   "execution_count": 3,
   "metadata": {},
   "outputs": [
    {
     "data": {
      "text/html": [
       "<div>\n",
       "<style scoped>\n",
       "    .dataframe tbody tr th:only-of-type {\n",
       "        vertical-align: middle;\n",
       "    }\n",
       "\n",
       "    .dataframe tbody tr th {\n",
       "        vertical-align: top;\n",
       "    }\n",
       "\n",
       "    .dataframe thead th {\n",
       "        text-align: right;\n",
       "    }\n",
       "</style>\n",
       "<table border=\"1\" class=\"dataframe\">\n",
       "  <thead>\n",
       "    <tr style=\"text-align: right;\">\n",
       "      <th></th>\n",
       "      <th>Unnamed: 0</th>\n",
       "      <th>train_id</th>\n",
       "      <th>name</th>\n",
       "      <th>item_condition_id</th>\n",
       "      <th>category_name</th>\n",
       "      <th>brand_name</th>\n",
       "      <th>price</th>\n",
       "      <th>shipping</th>\n",
       "      <th>item_description</th>\n",
       "    </tr>\n",
       "  </thead>\n",
       "  <tbody>\n",
       "    <tr>\n",
       "      <th>0</th>\n",
       "      <td>587969</td>\n",
       "      <td>587969</td>\n",
       "      <td>Men's H&amp;M tshirt</td>\n",
       "      <td>1</td>\n",
       "      <td>Men/Tops/T-shirts</td>\n",
       "      <td>H&amp;M</td>\n",
       "      <td>8.0</td>\n",
       "      <td>0</td>\n",
       "      <td>Light yellow color, NWT</td>\n",
       "    </tr>\n",
       "    <tr>\n",
       "      <th>1</th>\n",
       "      <td>94528</td>\n",
       "      <td>94528</td>\n",
       "      <td>Victoria Secret Vneck lot 3</td>\n",
       "      <td>2</td>\n",
       "      <td>Women/Tops &amp; Blouses/T-Shirts</td>\n",
       "      <td>Victoria's Secret</td>\n",
       "      <td>13.0</td>\n",
       "      <td>1</td>\n",
       "      <td>victoria-s-secret-pink-essential-v-neck-tee vi...</td>\n",
       "    </tr>\n",
       "  </tbody>\n",
       "</table>\n",
       "</div>"
      ],
      "text/plain": [
       "   Unnamed: 0  train_id                         name  item_condition_id  \\\n",
       "0      587969    587969             Men's H&M tshirt                  1   \n",
       "1       94528     94528  Victoria Secret Vneck lot 3                  2   \n",
       "\n",
       "                   category_name         brand_name  price  shipping  \\\n",
       "0              Men/Tops/T-shirts                H&M    8.0         0   \n",
       "1  Women/Tops & Blouses/T-Shirts  Victoria's Secret   13.0         1   \n",
       "\n",
       "                                    item_description  \n",
       "0                            Light yellow color, NWT  \n",
       "1  victoria-s-secret-pink-essential-v-neck-tee vi...  "
      ]
     },
     "execution_count": 3,
     "metadata": {},
     "output_type": "execute_result"
    }
   ],
   "source": [
    "train.head(2)"
   ]
  },
  {
   "cell_type": "code",
   "execution_count": 4,
   "metadata": {},
   "outputs": [
    {
     "data": {
      "text/html": [
       "<div>\n",
       "<style scoped>\n",
       "    .dataframe tbody tr th:only-of-type {\n",
       "        vertical-align: middle;\n",
       "    }\n",
       "\n",
       "    .dataframe tbody tr th {\n",
       "        vertical-align: top;\n",
       "    }\n",
       "\n",
       "    .dataframe thead th {\n",
       "        text-align: right;\n",
       "    }\n",
       "</style>\n",
       "<table border=\"1\" class=\"dataframe\">\n",
       "  <thead>\n",
       "    <tr style=\"text-align: right;\">\n",
       "      <th></th>\n",
       "      <th>Unnamed: 0</th>\n",
       "      <th>train_id</th>\n",
       "      <th>name</th>\n",
       "      <th>item_condition_id</th>\n",
       "      <th>category_name</th>\n",
       "      <th>brand_name</th>\n",
       "      <th>price</th>\n",
       "      <th>shipping</th>\n",
       "      <th>item_description</th>\n",
       "    </tr>\n",
       "  </thead>\n",
       "  <tbody>\n",
       "    <tr>\n",
       "      <th>0</th>\n",
       "      <td>537620</td>\n",
       "      <td>537620</td>\n",
       "      <td>AE BUNDLE FOR LISA BOWSER</td>\n",
       "      <td>2</td>\n",
       "      <td>Women/Jeans/Boot Cut</td>\n",
       "      <td>American Eagle</td>\n",
       "      <td>105.0</td>\n",
       "      <td>0</td>\n",
       "      <td>Size 10 short , Bought these and laundered the...</td>\n",
       "    </tr>\n",
       "    <tr>\n",
       "      <th>1</th>\n",
       "      <td>548690</td>\n",
       "      <td>548690</td>\n",
       "      <td>***FOR TAM ONLY*** IPAD MINI 4 CASE</td>\n",
       "      <td>3</td>\n",
       "      <td>Electronics/Cell Phones &amp; Accessories/Cases, C...</td>\n",
       "      <td>NaN</td>\n",
       "      <td>10.0</td>\n",
       "      <td>1</td>\n",
       "      <td>No description yet</td>\n",
       "    </tr>\n",
       "  </tbody>\n",
       "</table>\n",
       "</div>"
      ],
      "text/plain": [
       "   Unnamed: 0  train_id                                 name  \\\n",
       "0      537620    537620            AE BUNDLE FOR LISA BOWSER   \n",
       "1      548690    548690  ***FOR TAM ONLY*** IPAD MINI 4 CASE   \n",
       "\n",
       "   item_condition_id                                      category_name  \\\n",
       "0                  2                               Women/Jeans/Boot Cut   \n",
       "1                  3  Electronics/Cell Phones & Accessories/Cases, C...   \n",
       "\n",
       "       brand_name  price  shipping  \\\n",
       "0  American Eagle  105.0         0   \n",
       "1             NaN   10.0         1   \n",
       "\n",
       "                                    item_description  \n",
       "0  Size 10 short , Bought these and laundered the...  \n",
       "1                                 No description yet  "
      ]
     },
     "execution_count": 4,
     "metadata": {},
     "output_type": "execute_result"
    }
   ],
   "source": [
    "valid.head(2)"
   ]
  },
  {
   "cell_type": "code",
   "execution_count": 6,
   "metadata": {},
   "outputs": [],
   "source": [
    "cv_desc = CountVectorizer(min_df=10)\n",
    "\n",
    "cv_desc.fit(np.hstack([\n",
    "    train[\"item_description\"].fillna('').values,\n",
    "    valid[\"item_description\"].fillna('').values\n",
    "]))\n",
    "\n",
    "X_name_train = cv_desc.transform(train[\"item_description\"].fillna(''))\n",
    "X_name_valid = cv_desc.transform(valid[\"item_description\"].fillna(''))"
   ]
  },
  {
   "cell_type": "code",
   "execution_count": 7,
   "metadata": {},
   "outputs": [
    {
     "data": {
      "text/plain": [
       "<1082535x30164 sparse matrix of type '<class 'numpy.int64'>'\n",
       "\twith 22138898 stored elements in Compressed Sparse Row format>"
      ]
     },
     "execution_count": 7,
     "metadata": {},
     "output_type": "execute_result"
    }
   ],
   "source": [
    "X_name_train"
   ]
  },
  {
   "cell_type": "code",
   "execution_count": 9,
   "metadata": {},
   "outputs": [
    {
     "data": {
      "text/plain": [
       "194"
      ]
     },
     "execution_count": 9,
     "metadata": {},
     "output_type": "execute_result"
    }
   ],
   "source": [
    "X_name_train.sum(axis=1).max()"
   ]
  },
  {
   "cell_type": "code",
   "execution_count": 10,
   "metadata": {},
   "outputs": [
    {
     "data": {
      "text/plain": [
       "24.015639217207756"
      ]
     },
     "execution_count": 10,
     "metadata": {},
     "output_type": "execute_result"
    }
   ],
   "source": [
    "X_name_train.sum(axis=1).mean()"
   ]
  },
  {
   "cell_type": "code",
   "execution_count": 12,
   "metadata": {},
   "outputs": [],
   "source": [
    "vocabulary_size = len(cv_desc.vocabulary_)"
   ]
  },
  {
   "cell_type": "code",
   "execution_count": 13,
   "metadata": {},
   "outputs": [
    {
     "data": {
      "text/plain": [
       "30164"
      ]
     },
     "execution_count": 13,
     "metadata": {},
     "output_type": "execute_result"
    }
   ],
   "source": [
    "vocabulary_size"
   ]
  },
  {
   "cell_type": "code",
   "execution_count": 15,
   "metadata": {},
   "outputs": [],
   "source": [
    "f_desc = SparseField(\n",
    "    name='description', \n",
    "    vocabulary_size=vocabulary_size,\n",
    "    m=194, \n",
    "    d=5,\n",
    ")"
   ]
  },
  {
   "cell_type": "code",
   "execution_count": 16,
   "metadata": {},
   "outputs": [
    {
     "data": {
      "text/plain": [
       "{'name': 'description', 'vocabulary_size': 30164, 'm': 194, 'd': 5, 'dtype': 'int32'}"
      ]
     },
     "execution_count": 16,
     "metadata": {},
     "output_type": "execute_result"
    }
   ],
   "source": [
    "f_desc"
   ]
  },
  {
   "cell_type": "code",
   "execution_count": 17,
   "metadata": {},
   "outputs": [],
   "source": [
    "i = FieldsManager.fields2inputs([f_desc])[0]\n",
    "sparse_linear = SparseLinear(vocabulary_size=vocabulary_size, alpha=0.001)\n",
    "o = AddBias()(sparse_linear(i))"
   ]
  },
  {
   "cell_type": "code",
   "execution_count": 18,
   "metadata": {},
   "outputs": [],
   "source": [
    "X_desc_train_seq = to_sequences(X_name_train, seq_len=194)\n",
    "X_desc_valid_seq = to_sequences(X_name_valid, seq_len=194)"
   ]
  },
  {
   "cell_type": "code",
   "execution_count": 24,
   "metadata": {},
   "outputs": [],
   "source": [
    "model = Model(i, o)\n",
    "model.compile(optimizer='sgd', loss='mse')"
   ]
  },
  {
   "cell_type": "code",
   "execution_count": 25,
   "metadata": {},
   "outputs": [
    {
     "name": "stdout",
     "output_type": "stream",
     "text": [
      "Train on 1082535 samples, validate on 200000 samples\n",
      "Epoch 1/10\n",
      "     32/1082535 [..............................] - ETA: 2:45:43 - loss: 10.5112"
     ]
    },
    {
     "name": "stderr",
     "output_type": "stream",
     "text": [
      "/home/sigmo/deep/lib/python3.6/site-packages/tensorflow_core/python/framework/indexed_slices.py:433: UserWarning: Converting sparse IndexedSlices to a dense Tensor of unknown shape. This may consume a large amount of memory.\n",
      "  \"Converting sparse IndexedSlices to a dense Tensor of unknown shape. \"\n"
     ]
    },
    {
     "name": "stdout",
     "output_type": "stream",
     "text": [
      "1082535/1082535 [==============================] - 59s 55us/sample - loss: 0.4334 - val_loss: 0.4183\n",
      "Epoch 2/10\n",
      "1082535/1082535 [==============================] - 53s 49us/sample - loss: 0.4162 - val_loss: 0.4178\n",
      "Epoch 3/10\n",
      "1082535/1082535 [==============================] - 56s 52us/sample - loss: 0.4157 - val_loss: 0.4177\n",
      "Epoch 4/10\n",
      "1082535/1082535 [==============================] - 57s 53us/sample - loss: 0.4157 - val_loss: 0.4180\n"
     ]
    },
    {
     "data": {
      "text/plain": [
       "<tensorflow.python.keras.callbacks.History at 0x7fc5921120b8>"
      ]
     },
     "execution_count": 25,
     "metadata": {},
     "output_type": "execute_result"
    }
   ],
   "source": [
    "model.fit(\n",
    "    X_desc_train_seq, \n",
    "    np.log1p(train['price']),\n",
    "    epochs=10,\n",
    "    batch_size=32,\n",
    "    shuffle=True,\n",
    "    validation_data=(\n",
    "        X_desc_valid_seq,\n",
    "        np.log1p(valid['price'])\n",
    "    ), \n",
    "    callbacks=[EarlyStopping()]\n",
    ")"
   ]
  },
  {
   "cell_type": "code",
   "execution_count": 27,
   "metadata": {},
   "outputs": [],
   "source": [
    "y_pred_valid = np.expm1(model.predict(X_desc_valid_seq)).flatten()"
   ]
  },
  {
   "cell_type": "code",
   "execution_count": 28,
   "metadata": {},
   "outputs": [
    {
     "data": {
      "text/plain": [
       "0.6336271746254887"
      ]
     },
     "execution_count": 28,
     "metadata": {},
     "output_type": "execute_result"
    }
   ],
   "source": [
    "cost(true=valid['price'], pred=y_pred_valid)"
   ]
  }
 ],
 "metadata": {
  "kernelspec": {
   "display_name": "Python 3",
   "language": "python",
   "name": "python3"
  },
  "language_info": {
   "codemirror_mode": {
    "name": "ipython",
    "version": 3
   },
   "file_extension": ".py",
   "mimetype": "text/x-python",
   "name": "python",
   "nbconvert_exporter": "python",
   "pygments_lexer": "ipython3",
   "version": "3.6.9"
  }
 },
 "nbformat": 4,
 "nbformat_minor": 4
}
