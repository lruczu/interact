{
 "cells": [
  {
   "cell_type": "code",
   "execution_count": 2,
   "metadata": {},
   "outputs": [],
   "source": [
    "from functools import reduce\n",
    "from typing import List\n",
    "\n",
    "import numpy as np\n",
    "import pandas as pd\n",
    "from sklearn.feature_extraction.text import CountVectorizer\n",
    "from tensorflow.keras.callbacks import EarlyStopping\n",
    "from tensorflow.keras.layers import Add\n",
    "from tensorflow.keras.models import Model\n",
    "\n",
    "from interact.fields import FieldsManager, SparseField\n",
    "from interact.layers import SparseLinear, AddBias\n",
    "from interact.models import AutoInt\n",
    "from interact.utils import to_sequences\n",
    "\n",
    "from utils import get_dataset, DataSet, cost, MercariTranformer"
   ]
  },
  {
   "cell_type": "code",
   "execution_count": 3,
   "metadata": {},
   "outputs": [],
   "source": [
    "train = get_dataset(DataSet.Train)\n",
    "valid = get_dataset(DataSet.Valid)"
   ]
  },
  {
   "cell_type": "code",
   "execution_count": 4,
   "metadata": {},
   "outputs": [],
   "source": [
    "mercari_transformer = MercariTranformer(\n",
    "    CountVectorizer(min_df=10),\n",
    "    CountVectorizer(min_df=10),\n",
    ")"
   ]
  },
  {
   "cell_type": "code",
   "execution_count": 5,
   "metadata": {},
   "outputs": [
    {
     "name": "stdout",
     "output_type": "stream",
     "text": [
      "CPU times: user 57 s, sys: 1.14 s, total: 58.2 s\n",
      "Wall time: 58.2 s\n"
     ]
    }
   ],
   "source": [
    "%%time\n",
    "mercari_transformer.fit(pd.concat([train, valid], axis=0, ignore_index=True))"
   ]
  },
  {
   "cell_type": "code",
   "execution_count": 6,
   "metadata": {},
   "outputs": [
    {
     "name": "stdout",
     "output_type": "stream",
     "text": [
      "CPU times: user 2min, sys: 683 ms, total: 2min 1s\n",
      "Wall time: 2min 1s\n"
     ]
    }
   ],
   "source": [
    "%%time\n",
    "d_train = mercari_transformer.transform(train)"
   ]
  },
  {
   "cell_type": "code",
   "execution_count": 7,
   "metadata": {},
   "outputs": [
    {
     "name": "stdout",
     "output_type": "stream",
     "text": [
      "CPU times: user 21.9 s, sys: 7.87 ms, total: 21.9 s\n",
      "Wall time: 21.9 s\n"
     ]
    }
   ],
   "source": [
    "%%time\n",
    "d_valid = mercari_transformer.transform(valid)"
   ]
  },
  {
   "cell_type": "code",
   "execution_count": 8,
   "metadata": {},
   "outputs": [],
   "source": [
    "f_name = SparseField(\n",
    "    name='name', \n",
    "    vocabulary_size=16543,\n",
    "    m=10, \n",
    "    d=5,\n",
    ")\n",
    "\n",
    "f_description = SparseField(\n",
    "    name='description', \n",
    "    vocabulary_size=30164,\n",
    "    m=169, \n",
    "    d=5,\n",
    ")\n",
    "\n",
    "f_brand = SparseField(\n",
    "    name='brand', \n",
    "    vocabulary_size=4658,\n",
    "    m=1, \n",
    "    d=5,\n",
    ")\n",
    "\n",
    "f_condition = SparseField(\n",
    "    name='item_condition_id', \n",
    "    vocabulary_size=5,\n",
    "    m=1, \n",
    "    d=5,\n",
    ")\n",
    "\n",
    "f_shipping = SparseField(\n",
    "    name='shipping', \n",
    "    vocabulary_size=2,\n",
    "    m=1, \n",
    "    d=5,\n",
    ")\n",
    "\n",
    "f_category = SparseField(\n",
    "    name='category', \n",
    "    vocabulary_size=946,\n",
    "    m=5, \n",
    "    d=5,\n",
    ")"
   ]
  },
  {
   "cell_type": "code",
   "execution_count": 9,
   "metadata": {},
   "outputs": [],
   "source": [
    "fields = [\n",
    "    f_name,\n",
    "    f_description,\n",
    "    f_brand,\n",
    "    f_condition,\n",
    "    f_shipping,\n",
    "    f_category\n",
    "]"
   ]
  },
  {
   "cell_type": "code",
   "execution_count": 11,
   "metadata": {},
   "outputs": [
    {
     "ename": "TypeError",
     "evalue": "__init__() missing 1 required positional argument: 'dim1'",
     "output_type": "error",
     "traceback": [
      "\u001b[0;31m---------------------------------------------------------------------------\u001b[0m",
      "\u001b[0;31mTypeError\u001b[0m                                 Traceback (most recent call last)",
      "\u001b[0;32m<ipython-input-11-ac48057151a9>\u001b[0m in \u001b[0;36m<module>\u001b[0;34m\u001b[0m\n\u001b[0;32m----> 1\u001b[0;31m \u001b[0mautoint\u001b[0m \u001b[0;34m=\u001b[0m \u001b[0mAutoInt\u001b[0m\u001b[0;34m(\u001b[0m\u001b[0mfields\u001b[0m\u001b[0;34m,\u001b[0m \u001b[0md_prime\u001b[0m\u001b[0;34m=\u001b[0m\u001b[0;36m1\u001b[0m\u001b[0;34m,\u001b[0m \u001b[0mh\u001b[0m\u001b[0;34m=\u001b[0m\u001b[0;36m2\u001b[0m\u001b[0;34m,\u001b[0m \u001b[0ml2_penalty\u001b[0m\u001b[0;34m=\u001b[0m\u001b[0;36m0.001\u001b[0m\u001b[0;34m)\u001b[0m\u001b[0;34m\u001b[0m\u001b[0;34m\u001b[0m\u001b[0m\n\u001b[0m",
      "\u001b[0;32m~/deep/lib/python3.6/site-packages/interact/models/autoint.py\u001b[0m in \u001b[0;36mAutoInt\u001b[0;34m(fields, d_prime, h, l2_penalty)\u001b[0m\n\u001b[1;32m     25\u001b[0m \u001b[0;34m\u001b[0m\u001b[0m\n\u001b[1;32m     26\u001b[0m     y_autoint = AddBias(\n\u001b[0;32m---> 27\u001b[0;31m         Product()(\n\u001b[0m\u001b[1;32m     28\u001b[0m             Flatten()(\n\u001b[1;32m     29\u001b[0m                 \u001b[0mAttentionAutoInt\u001b[0m\u001b[0;34m(\u001b[0m\u001b[0membeddings\u001b[0m\u001b[0;34m)\u001b[0m\u001b[0;34m\u001b[0m\u001b[0;34m\u001b[0m\u001b[0m\n",
      "\u001b[0;31mTypeError\u001b[0m: __init__() missing 1 required positional argument: 'dim1'"
     ]
    }
   ],
   "source": [
    "autoint = AutoInt(fields, d_prime=1, h=2, l2_penalty=0.001)"
   ]
  },
  {
   "cell_type": "code",
   "execution_count": null,
   "metadata": {},
   "outputs": [],
   "source": []
  },
  {
   "cell_type": "code",
   "execution_count": null,
   "metadata": {},
   "outputs": [],
   "source": []
  },
  {
   "cell_type": "code",
   "execution_count": null,
   "metadata": {},
   "outputs": [],
   "source": []
  },
  {
   "cell_type": "code",
   "execution_count": null,
   "metadata": {},
   "outputs": [],
   "source": []
  }
 ],
 "metadata": {
  "kernelspec": {
   "display_name": "Python 3",
   "language": "python",
   "name": "python3"
  },
  "language_info": {
   "codemirror_mode": {
    "name": "ipython",
    "version": 3
   },
   "file_extension": ".py",
   "mimetype": "text/x-python",
   "name": "python",
   "nbconvert_exporter": "python",
   "pygments_lexer": "ipython3",
   "version": "3.6.9"
  }
 },
 "nbformat": 4,
 "nbformat_minor": 4
}
