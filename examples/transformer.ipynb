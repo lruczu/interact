{
 "cells": [
  {
   "cell_type": "code",
   "execution_count": 38,
   "metadata": {},
   "outputs": [],
   "source": [
    "from functools import reduce\n",
    "import numpy as np\n",
    "import pandas as pd\n",
    "\n",
    "from sklearn.base import BaseEstimator, TransformerMixin\n",
    "from sklearn.feature_extraction.text import CountVectorizer\n",
    "from sklearn.preprocessing import LabelBinarizer\n",
    "\n",
    "from utils import get_dataset, DataSet, cost"
   ]
  },
  {
   "cell_type": "code",
   "execution_count": 2,
   "metadata": {},
   "outputs": [],
   "source": [
    "train = get_dataset(DataSet.Train)"
   ]
  },
  {
   "cell_type": "code",
   "execution_count": 3,
   "metadata": {},
   "outputs": [
    {
     "data": {
      "text/html": [
       "<div>\n",
       "<style scoped>\n",
       "    .dataframe tbody tr th:only-of-type {\n",
       "        vertical-align: middle;\n",
       "    }\n",
       "\n",
       "    .dataframe tbody tr th {\n",
       "        vertical-align: top;\n",
       "    }\n",
       "\n",
       "    .dataframe thead th {\n",
       "        text-align: right;\n",
       "    }\n",
       "</style>\n",
       "<table border=\"1\" class=\"dataframe\">\n",
       "  <thead>\n",
       "    <tr style=\"text-align: right;\">\n",
       "      <th></th>\n",
       "      <th>Unnamed: 0</th>\n",
       "      <th>train_id</th>\n",
       "      <th>name</th>\n",
       "      <th>item_condition_id</th>\n",
       "      <th>category_name</th>\n",
       "      <th>brand_name</th>\n",
       "      <th>price</th>\n",
       "      <th>shipping</th>\n",
       "      <th>item_description</th>\n",
       "    </tr>\n",
       "  </thead>\n",
       "  <tbody>\n",
       "    <tr>\n",
       "      <th>0</th>\n",
       "      <td>587969</td>\n",
       "      <td>587969</td>\n",
       "      <td>Men's H&amp;M tshirt</td>\n",
       "      <td>1</td>\n",
       "      <td>Men/Tops/T-shirts</td>\n",
       "      <td>H&amp;M</td>\n",
       "      <td>8.0</td>\n",
       "      <td>0</td>\n",
       "      <td>Light yellow color, NWT</td>\n",
       "    </tr>\n",
       "    <tr>\n",
       "      <th>1</th>\n",
       "      <td>94528</td>\n",
       "      <td>94528</td>\n",
       "      <td>Victoria Secret Vneck lot 3</td>\n",
       "      <td>2</td>\n",
       "      <td>Women/Tops &amp; Blouses/T-Shirts</td>\n",
       "      <td>Victoria's Secret</td>\n",
       "      <td>13.0</td>\n",
       "      <td>1</td>\n",
       "      <td>victoria-s-secret-pink-essential-v-neck-tee vi...</td>\n",
       "    </tr>\n",
       "  </tbody>\n",
       "</table>\n",
       "</div>"
      ],
      "text/plain": [
       "   Unnamed: 0  train_id                         name  item_condition_id  \\\n",
       "0      587969    587969             Men's H&M tshirt                  1   \n",
       "1       94528     94528  Victoria Secret Vneck lot 3                  2   \n",
       "\n",
       "                   category_name         brand_name  price  shipping  \\\n",
       "0              Men/Tops/T-shirts                H&M    8.0         0   \n",
       "1  Women/Tops & Blouses/T-Shirts  Victoria's Secret   13.0         1   \n",
       "\n",
       "                                    item_description  \n",
       "0                            Light yellow color, NWT  \n",
       "1  victoria-s-secret-pink-essential-v-neck-tee vi...  "
      ]
     },
     "execution_count": 3,
     "metadata": {},
     "output_type": "execute_result"
    }
   ],
   "source": [
    "train.head(2)"
   ]
  },
  {
   "cell_type": "code",
   "execution_count": 4,
   "metadata": {},
   "outputs": [
    {
     "data": {
      "text/plain": [
       "0    598209\n",
       "1    484326\n",
       "Name: shipping, dtype: int64"
      ]
     },
     "execution_count": 4,
     "metadata": {},
     "output_type": "execute_result"
    }
   ],
   "source": [
    "train[\"shipping\"].value_counts()"
   ]
  },
  {
   "cell_type": "code",
   "execution_count": 52,
   "metadata": {},
   "outputs": [],
   "source": [
    "class MercariTranformer(BaseEstimator, TransformerMixin):\n",
    "    def __init__(\n",
    "        self,\n",
    "        vectorizer_name,\n",
    "        vectorizer_desc,\n",
    "    ):\n",
    "        self._vectorizer_name = vectorizer_name\n",
    "        self._vectorizer_desc = vectorizer_desc\n",
    "        self._vectorizer_brand = LabelBinarizer(sparse_output=True)\n",
    "        self._vectorizer_cond = LabelBinarizer()\n",
    "        self._unique_categories = []\n",
    "        self._category_map = {}\n",
    "        self._m_category = None\n",
    "        \n",
    "    def fit(self, df: pd.DataFrame):\n",
    "        self._vectorizer_name.fit(df[\"name\"].fillna(\"\"))        \n",
    "        self._vectorizer_desc.fit(df[\"item_description\"].fillna(\"\"))\n",
    "        self._vectorizer_brand.fit(df[\"brand_name\"].fillna(\"Missing\"))\n",
    "        self._vectorizer_cond.fit(df[\"item_condition_id\"])\n",
    "        \n",
    "        self._unique_categories = reduce(\n",
    "            lambda x, y: set(x).union(y),\n",
    "            df.loc[~df[\"category_name\"].isnull(), \"category_name\"].str.split(\"/\").values\n",
    "        )\n",
    "        self._category_map = dict([\n",
    "            (c, i) for i, c in enumerate(self._unique_categories, 1)\n",
    "        ])\n",
    "        self._m_category = df[\"category_name\"].fillna(\"\").str.split(\"/\").apply(len).max()\n",
    "        \n",
    "    def transform(self, df):\n",
    "        return {\n",
    "            \"name\": self._vectorizer_name.transform(df[\"name\"].fillna(\"\")),\n",
    "            \"item_description\": self._vectorizer_desc.transform(df[\"item_description\"].fillna('')),\n",
    "            \"brand_name\": self._vectorizer_brand.transform(df[\"brand_name\"].fillna(\"Missing\")),\n",
    "            \"item_condition_id\": self._vectorizer_cond.transform(df[\"item_condition_id\"]),\n",
    "            \"shippting\": df[\"shipping\"],\n",
    "            \"category_name\": np.vstack(self._transform_category(df))\n",
    "        }\n",
    "    \n",
    "    def _transform_category(self, df):\n",
    "        def f(lst):\n",
    "            v = [0] * self._m_category\n",
    "            for i, x in enumerate(lst):\n",
    "                if x in self._category_map:\n",
    "                    v[i] = self._category_map[x]\n",
    "            return v\n",
    "        return df[\"category_name\"].fillna(\"\").str.split(\"/\").apply(f)"
   ]
  },
  {
   "cell_type": "code",
   "execution_count": 53,
   "metadata": {},
   "outputs": [],
   "source": [
    "mercari_transformer = MercariTranformer(\n",
    "    CountVectorizer(min_df=10),\n",
    "    CountVectorizer(min_df=10),\n",
    ")"
   ]
  },
  {
   "cell_type": "code",
   "execution_count": 54,
   "metadata": {},
   "outputs": [
    {
     "name": "stdout",
     "output_type": "stream",
     "text": [
      "CPU times: user 41.3 s, sys: 660 ms, total: 41.9 s\n",
      "Wall time: 41.9 s\n"
     ]
    }
   ],
   "source": [
    "%%time\n",
    "mercari_transformer.fit(train)"
   ]
  },
  {
   "cell_type": "code",
   "execution_count": 55,
   "metadata": {},
   "outputs": [
    {
     "name": "stdout",
     "output_type": "stream",
     "text": [
      "CPU times: user 1min 50s, sys: 492 ms, total: 1min 50s\n",
      "Wall time: 1min 50s\n"
     ]
    }
   ],
   "source": [
    "%%time\n",
    "d = mercari_transformer.transform(train)"
   ]
  },
  {
   "cell_type": "code",
   "execution_count": 57,
   "metadata": {},
   "outputs": [
    {
     "data": {
      "text/plain": [
       "<1082535x15246 sparse matrix of type '<class 'numpy.int64'>'\n",
       "\twith 4412505 stored elements in Compressed Sparse Row format>"
      ]
     },
     "execution_count": 57,
     "metadata": {},
     "output_type": "execute_result"
    }
   ],
   "source": [
    "d['name']"
   ]
  },
  {
   "cell_type": "code",
   "execution_count": 58,
   "metadata": {},
   "outputs": [
    {
     "data": {
      "text/plain": [
       "<1082535x28037 sparse matrix of type '<class 'numpy.int64'>'\n",
       "\twith 22121241 stored elements in Compressed Sparse Row format>"
      ]
     },
     "execution_count": 58,
     "metadata": {},
     "output_type": "execute_result"
    }
   ],
   "source": [
    "d['item_description']"
   ]
  },
  {
   "cell_type": "code",
   "execution_count": 59,
   "metadata": {},
   "outputs": [
    {
     "data": {
      "text/plain": [
       "<1082535x4427 sparse matrix of type '<class 'numpy.int64'>'\n",
       "\twith 1082535 stored elements in Compressed Sparse Row format>"
      ]
     },
     "execution_count": 59,
     "metadata": {},
     "output_type": "execute_result"
    }
   ],
   "source": [
    "d['brand_name']"
   ]
  },
  {
   "cell_type": "code",
   "execution_count": 60,
   "metadata": {},
   "outputs": [
    {
     "data": {
      "text/plain": [
       "array([[1, 0, 0, 0, 0],\n",
       "       [0, 1, 0, 0, 0],\n",
       "       [0, 1, 0, 0, 0],\n",
       "       ...,\n",
       "       [1, 0, 0, 0, 0],\n",
       "       [0, 0, 1, 0, 0],\n",
       "       [0, 1, 0, 0, 0]])"
      ]
     },
     "execution_count": 60,
     "metadata": {},
     "output_type": "execute_result"
    }
   ],
   "source": [
    "d['item_condition_id']"
   ]
  },
  {
   "cell_type": "code",
   "execution_count": 61,
   "metadata": {},
   "outputs": [
    {
     "data": {
      "text/plain": [
       "0          0\n",
       "1          1\n",
       "2          1\n",
       "3          0\n",
       "4          1\n",
       "5          1\n",
       "6          1\n",
       "7          1\n",
       "8          1\n",
       "9          0\n",
       "10         0\n",
       "11         0\n",
       "12         1\n",
       "13         0\n",
       "14         0\n",
       "15         1\n",
       "16         1\n",
       "17         0\n",
       "18         0\n",
       "19         1\n",
       "20         0\n",
       "21         1\n",
       "22         1\n",
       "23         0\n",
       "24         0\n",
       "25         1\n",
       "26         0\n",
       "27         0\n",
       "28         1\n",
       "29         1\n",
       "          ..\n",
       "1082505    0\n",
       "1082506    1\n",
       "1082507    0\n",
       "1082508    1\n",
       "1082509    0\n",
       "1082510    0\n",
       "1082511    1\n",
       "1082512    1\n",
       "1082513    1\n",
       "1082514    0\n",
       "1082515    0\n",
       "1082516    1\n",
       "1082517    1\n",
       "1082518    1\n",
       "1082519    0\n",
       "1082520    0\n",
       "1082521    0\n",
       "1082522    0\n",
       "1082523    0\n",
       "1082524    1\n",
       "1082525    1\n",
       "1082526    1\n",
       "1082527    0\n",
       "1082528    0\n",
       "1082529    0\n",
       "1082530    0\n",
       "1082531    1\n",
       "1082532    0\n",
       "1082533    1\n",
       "1082534    0\n",
       "Name: shipping, Length: 1082535, dtype: int64"
      ]
     },
     "execution_count": 61,
     "metadata": {},
     "output_type": "execute_result"
    }
   ],
   "source": [
    "d['shippting']"
   ]
  },
  {
   "cell_type": "code",
   "execution_count": 62,
   "metadata": {},
   "outputs": [
    {
     "data": {
      "text/plain": [
       "array([[810, 826, 638,   0,   0],\n",
       "       [ 93,   8,  86,   0,   0],\n",
       "       [ 93, 224, 358,   0,   0],\n",
       "       ...,\n",
       "       [824, 714,  28,   0,   0],\n",
       "       [293, 127, 886,   0,   0],\n",
       "       [293, 115, 480,   0,   0]])"
      ]
     },
     "execution_count": 62,
     "metadata": {},
     "output_type": "execute_result"
    }
   ],
   "source": [
    "d['category_name']"
   ]
  }
 ],
 "metadata": {
  "kernelspec": {
   "display_name": "Python 3",
   "language": "python",
   "name": "python3"
  },
  "language_info": {
   "codemirror_mode": {
    "name": "ipython",
    "version": 3
   },
   "file_extension": ".py",
   "mimetype": "text/x-python",
   "name": "python",
   "nbconvert_exporter": "python",
   "pygments_lexer": "ipython3",
   "version": "3.6.9"
  }
 },
 "nbformat": 4,
 "nbformat_minor": 4
}
