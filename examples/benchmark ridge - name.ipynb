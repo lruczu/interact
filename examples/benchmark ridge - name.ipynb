{
 "cells": [
  {
   "cell_type": "code",
   "execution_count": 23,
   "metadata": {},
   "outputs": [],
   "source": [
    "import numpy as np\n",
    "from sklearn.feature_extraction.text import CountVectorizer\n",
    "from tensorflow.keras.callbacks import EarlyStopping\n",
    "from tensorflow.keras.models import Model\n",
    "\n",
    "from interact.fields import FieldsManager, SparseField\n",
    "from interact.layers import SparseLinear, AddBias\n",
    "from interact.utils import to_sequences\n",
    "\n",
    "from utils import get_dataset, DataSet, cost"
   ]
  },
  {
   "cell_type": "code",
   "execution_count": 2,
   "metadata": {},
   "outputs": [],
   "source": [
    "train = get_dataset(DataSet.Train)\n",
    "valid = get_dataset(DataSet.Valid)"
   ]
  },
  {
   "cell_type": "code",
   "execution_count": 3,
   "metadata": {},
   "outputs": [
    {
     "data": {
      "text/html": [
       "<div>\n",
       "<style scoped>\n",
       "    .dataframe tbody tr th:only-of-type {\n",
       "        vertical-align: middle;\n",
       "    }\n",
       "\n",
       "    .dataframe tbody tr th {\n",
       "        vertical-align: top;\n",
       "    }\n",
       "\n",
       "    .dataframe thead th {\n",
       "        text-align: right;\n",
       "    }\n",
       "</style>\n",
       "<table border=\"1\" class=\"dataframe\">\n",
       "  <thead>\n",
       "    <tr style=\"text-align: right;\">\n",
       "      <th></th>\n",
       "      <th>Unnamed: 0</th>\n",
       "      <th>train_id</th>\n",
       "      <th>name</th>\n",
       "      <th>item_condition_id</th>\n",
       "      <th>category_name</th>\n",
       "      <th>brand_name</th>\n",
       "      <th>price</th>\n",
       "      <th>shipping</th>\n",
       "      <th>item_description</th>\n",
       "    </tr>\n",
       "  </thead>\n",
       "  <tbody>\n",
       "    <tr>\n",
       "      <th>0</th>\n",
       "      <td>587969</td>\n",
       "      <td>587969</td>\n",
       "      <td>Men's H&amp;M tshirt</td>\n",
       "      <td>1</td>\n",
       "      <td>Men/Tops/T-shirts</td>\n",
       "      <td>H&amp;M</td>\n",
       "      <td>8.0</td>\n",
       "      <td>0</td>\n",
       "      <td>Light yellow color, NWT</td>\n",
       "    </tr>\n",
       "    <tr>\n",
       "      <th>1</th>\n",
       "      <td>94528</td>\n",
       "      <td>94528</td>\n",
       "      <td>Victoria Secret Vneck lot 3</td>\n",
       "      <td>2</td>\n",
       "      <td>Women/Tops &amp; Blouses/T-Shirts</td>\n",
       "      <td>Victoria's Secret</td>\n",
       "      <td>13.0</td>\n",
       "      <td>1</td>\n",
       "      <td>victoria-s-secret-pink-essential-v-neck-tee vi...</td>\n",
       "    </tr>\n",
       "  </tbody>\n",
       "</table>\n",
       "</div>"
      ],
      "text/plain": [
       "   Unnamed: 0  train_id                         name  item_condition_id  \\\n",
       "0      587969    587969             Men's H&M tshirt                  1   \n",
       "1       94528     94528  Victoria Secret Vneck lot 3                  2   \n",
       "\n",
       "                   category_name         brand_name  price  shipping  \\\n",
       "0              Men/Tops/T-shirts                H&M    8.0         0   \n",
       "1  Women/Tops & Blouses/T-Shirts  Victoria's Secret   13.0         1   \n",
       "\n",
       "                                    item_description  \n",
       "0                            Light yellow color, NWT  \n",
       "1  victoria-s-secret-pink-essential-v-neck-tee vi...  "
      ]
     },
     "execution_count": 3,
     "metadata": {},
     "output_type": "execute_result"
    }
   ],
   "source": [
    "train.head(2)"
   ]
  },
  {
   "cell_type": "code",
   "execution_count": 4,
   "metadata": {},
   "outputs": [
    {
     "data": {
      "text/html": [
       "<div>\n",
       "<style scoped>\n",
       "    .dataframe tbody tr th:only-of-type {\n",
       "        vertical-align: middle;\n",
       "    }\n",
       "\n",
       "    .dataframe tbody tr th {\n",
       "        vertical-align: top;\n",
       "    }\n",
       "\n",
       "    .dataframe thead th {\n",
       "        text-align: right;\n",
       "    }\n",
       "</style>\n",
       "<table border=\"1\" class=\"dataframe\">\n",
       "  <thead>\n",
       "    <tr style=\"text-align: right;\">\n",
       "      <th></th>\n",
       "      <th>Unnamed: 0</th>\n",
       "      <th>train_id</th>\n",
       "      <th>name</th>\n",
       "      <th>item_condition_id</th>\n",
       "      <th>category_name</th>\n",
       "      <th>brand_name</th>\n",
       "      <th>price</th>\n",
       "      <th>shipping</th>\n",
       "      <th>item_description</th>\n",
       "    </tr>\n",
       "  </thead>\n",
       "  <tbody>\n",
       "    <tr>\n",
       "      <th>0</th>\n",
       "      <td>537620</td>\n",
       "      <td>537620</td>\n",
       "      <td>AE BUNDLE FOR LISA BOWSER</td>\n",
       "      <td>2</td>\n",
       "      <td>Women/Jeans/Boot Cut</td>\n",
       "      <td>American Eagle</td>\n",
       "      <td>105.0</td>\n",
       "      <td>0</td>\n",
       "      <td>Size 10 short , Bought these and laundered the...</td>\n",
       "    </tr>\n",
       "    <tr>\n",
       "      <th>1</th>\n",
       "      <td>548690</td>\n",
       "      <td>548690</td>\n",
       "      <td>***FOR TAM ONLY*** IPAD MINI 4 CASE</td>\n",
       "      <td>3</td>\n",
       "      <td>Electronics/Cell Phones &amp; Accessories/Cases, C...</td>\n",
       "      <td>NaN</td>\n",
       "      <td>10.0</td>\n",
       "      <td>1</td>\n",
       "      <td>No description yet</td>\n",
       "    </tr>\n",
       "  </tbody>\n",
       "</table>\n",
       "</div>"
      ],
      "text/plain": [
       "   Unnamed: 0  train_id                                 name  \\\n",
       "0      537620    537620            AE BUNDLE FOR LISA BOWSER   \n",
       "1      548690    548690  ***FOR TAM ONLY*** IPAD MINI 4 CASE   \n",
       "\n",
       "   item_condition_id                                      category_name  \\\n",
       "0                  2                               Women/Jeans/Boot Cut   \n",
       "1                  3  Electronics/Cell Phones & Accessories/Cases, C...   \n",
       "\n",
       "       brand_name  price  shipping  \\\n",
       "0  American Eagle  105.0         0   \n",
       "1             NaN   10.0         1   \n",
       "\n",
       "                                    item_description  \n",
       "0  Size 10 short , Bought these and laundered the...  \n",
       "1                                 No description yet  "
      ]
     },
     "execution_count": 4,
     "metadata": {},
     "output_type": "execute_result"
    }
   ],
   "source": [
    "valid.head(2)"
   ]
  },
  {
   "cell_type": "code",
   "execution_count": 5,
   "metadata": {},
   "outputs": [],
   "source": [
    "cv_name = CountVectorizer(min_df=10)\n",
    "\n",
    "cv_name.fit(np.hstack([\n",
    "    train[\"name\"].values,\n",
    "    valid[\"name\"].values\n",
    "]))\n",
    "\n",
    "X_name_train = cv_name.transform(train[\"name\"])\n",
    "X_name_valid = cv_name.transform(valid[\"name\"])"
   ]
  },
  {
   "cell_type": "code",
   "execution_count": 11,
   "metadata": {},
   "outputs": [
    {
     "data": {
      "text/plain": [
       "10"
      ]
     },
     "execution_count": 11,
     "metadata": {},
     "output_type": "execute_result"
    }
   ],
   "source": [
    "m_name = (X_name_train > 0).sum(axis=1).max()\n",
    "m_name"
   ]
  },
  {
   "cell_type": "code",
   "execution_count": 12,
   "metadata": {},
   "outputs": [],
   "source": [
    "vocabulary_size = len(cv_name.vocabulary_)"
   ]
  },
  {
   "cell_type": "code",
   "execution_count": 13,
   "metadata": {},
   "outputs": [
    {
     "data": {
      "text/plain": [
       "16543"
      ]
     },
     "execution_count": 13,
     "metadata": {},
     "output_type": "execute_result"
    }
   ],
   "source": [
    "vocabulary_size"
   ]
  },
  {
   "cell_type": "code",
   "execution_count": 16,
   "metadata": {},
   "outputs": [],
   "source": [
    "f_name = SparseField(\n",
    "    name='name', \n",
    "    vocabulary_size=vocabulary_size,\n",
    "    m=m_name, \n",
    "    d=5,\n",
    ")"
   ]
  },
  {
   "cell_type": "code",
   "execution_count": 17,
   "metadata": {},
   "outputs": [
    {
     "data": {
      "text/plain": [
       "{'name': 'name', 'vocabulary_size': 16543, 'm': 10, 'd': 5, 'dtype': 'int32'}"
      ]
     },
     "execution_count": 17,
     "metadata": {},
     "output_type": "execute_result"
    }
   ],
   "source": [
    "f_name"
   ]
  },
  {
   "cell_type": "code",
   "execution_count": 18,
   "metadata": {},
   "outputs": [],
   "source": [
    "i = FieldsManager.fields2inputs([f_name], alpha=0.001)[0]\n",
    "sparse_linear = SparseLinear(vocabulary_size=vocabulary_size, alpha=0.001)\n",
    "o = AddBias()(sparse_linear(i))"
   ]
  },
  {
   "cell_type": "code",
   "execution_count": 19,
   "metadata": {},
   "outputs": [],
   "source": [
    "X_name_train_seq = to_sequences(X_name_train, seq_len=m_name)\n",
    "X_name_valid_seq = to_sequences(X_name_valid, seq_len=m_name)"
   ]
  },
  {
   "cell_type": "code",
   "execution_count": 20,
   "metadata": {},
   "outputs": [],
   "source": [
    "model = Model(i, o)\n",
    "model.compile(optimizer='sgd', loss='mse')"
   ]
  },
  {
   "cell_type": "code",
   "execution_count": 22,
   "metadata": {},
   "outputs": [
    {
     "name": "stdout",
     "output_type": "stream",
     "text": [
      "Train on 1082535 samples, validate on 200000 samples\n",
      "Epoch 1/10\n"
     ]
    },
    {
     "name": "stderr",
     "output_type": "stream",
     "text": [
      "/home/sigmo/deep/lib/python3.6/site-packages/tensorflow_core/python/framework/indexed_slices.py:433: UserWarning: Converting sparse IndexedSlices to a dense Tensor of unknown shape. This may consume a large amount of memory.\n",
      "  \"Converting sparse IndexedSlices to a dense Tensor of unknown shape. \"\n"
     ]
    },
    {
     "name": "stdout",
     "output_type": "stream",
     "text": [
      "1082535/1082535 [==============================] - 55s 51us/sample - loss: 0.4374 - val_loss: 0.4108\n",
      "Epoch 2/10\n",
      "1082535/1082535 [==============================] - 54s 50us/sample - loss: 0.4077 - val_loss: 0.4079\n",
      "Epoch 3/10\n",
      "1082535/1082535 [==============================] - 48s 44us/sample - loss: 0.4063 - val_loss: 0.4075\n",
      "Epoch 4/10\n",
      "1082535/1082535 [==============================] - 49s 45us/sample - loss: 0.4061 - val_loss: 0.4079\n"
     ]
    },
    {
     "data": {
      "text/plain": [
       "<tensorflow.python.keras.callbacks.History at 0x7f727ec78320>"
      ]
     },
     "execution_count": 22,
     "metadata": {},
     "output_type": "execute_result"
    }
   ],
   "source": [
    "model.fit(\n",
    "    X_name_train_seq, \n",
    "    np.log1p(train['price']),\n",
    "    epochs=10,\n",
    "    batch_size=32,\n",
    "    shuffle=True,\n",
    "    validation_data=(\n",
    "        X_name_valid_seq,\n",
    "        np.log1p(valid['price'])\n",
    "    ), \n",
    "    callbacks=[EarlyStopping()]\n",
    ")"
   ]
  },
  {
   "cell_type": "code",
   "execution_count": 25,
   "metadata": {},
   "outputs": [],
   "source": [
    "y_pred_valid = np.expm1(model.predict(X_name_valid_seq)).flatten()"
   ]
  },
  {
   "cell_type": "code",
   "execution_count": 26,
   "metadata": {},
   "outputs": [
    {
     "data": {
      "text/plain": [
       "0.6102968168658583"
      ]
     },
     "execution_count": 26,
     "metadata": {},
     "output_type": "execute_result"
    }
   ],
   "source": [
    "cost(true=valid['price'], pred=y_pred_valid)"
   ]
  },
  {
   "cell_type": "code",
   "execution_count": 29,
   "metadata": {},
   "outputs": [],
   "source": [
    "import pandas as pd"
   ]
  },
  {
   "cell_type": "code",
   "execution_count": 30,
   "metadata": {},
   "outputs": [],
   "source": [
    "unique_categories = pd.Series(\"/\".join(train[\"category_name\"].unique().astype(\"str\")).split(\"/\")).unique()"
   ]
  },
  {
   "cell_type": "code",
   "execution_count": 31,
   "metadata": {},
   "outputs": [
    {
     "data": {
      "text/plain": [
       "array(['Men', 'Tops', 'T-shirts', 'Women', 'Tops & Blouses', 'T-Shirts',\n",
       "       'Athletic Apparel', 'Sports Bras', 'Shirts & Tops', 'Kids', 'Toys',\n",
       "       'Action Figures & Statues', 'Underwear', 'Bras', 'Beauty',\n",
       "       'Skin Care', 'Hands & Nails', \"Women's Handbags\",\n",
       "       'Totes & Shoppers', 'Jewelry', 'Necklaces', 'Other', 'Automotive',\n",
       "       'Car Care', 'Shoes', 'Boots', 'Home', 'Artwork',\n",
       "       'Posters & Prints', \"Men's Accessories\", 'Arts & Crafts',\n",
       "       'Sweats & Hoodies', 'Sweatshirt, Pullover', 'Makeup', 'Eyes',\n",
       "       \"Women's Accessories\", 'Wallets', 'Watches', 'Electronics',\n",
       "       'Cell Phones & Accessories', 'Cases, Covers & Skins', 'Dresses',\n",
       "       'Full-Length', 'Handmade', 'Accessories', 'Hair', 'Clothing',\n",
       "       'Lingerie', 'Face', 'Backpack Style', 'Books',\n",
       "       'Literature & Fiction', 'Pants, Tights, Leggings', 'Bath',\n",
       "       'Bathroom Accessories', 'Vintage & Collectibles', 'Toy', 'Animal',\n",
       "       'Jerseys', 'Girls (4+)', 'Tops & T-Shirts', 'Tank, Cami',\n",
       "       'Boys 2T-5T', 'Daily & Travel items', 'Household Supplies',\n",
       "       'Cell Phone Accessories', 'Sweaters', 'Crewneck', 'Lips',\n",
       "       'Messenger & Crossbody', 'Swimwear', 'Two-Piece', 'Earrings',\n",
       "       'Coats & Jackets', 'Trench', 'Maternity', 'Pants', 'Body',\n",
       "       'Track & Sweat Pants', 'Sports & Outdoors', 'Outdoors',\n",
       "       'Hiking & Camping', 'Building Toys', 'Dolls & Accessories',\n",
       "       'Tools & Equipment', 'Loafers & Slip-Ons', 'Athletic',\n",
       "       'Health Care', 'Screen Protectors', 'Above Knee, Mini',\n",
       "       'Bath & Body', 'Girls 0-24 Mos', 'Tools & Accessories',\n",
       "       'Hair Styling Tools', 'Fashion Sneakers', 'Makeup Palettes',\n",
       "       'Shorts', 'Shoulder Bag', 'Jeans', 'Boot Cut', 'Boys 0-24 Mos',\n",
       "       'Button-Front', 'Leggings', 'Fragrance', 'Rings', 'One-Piece',\n",
       "       'Girls 2T-5T', 'Paper Ephemera', 'Postcard', 'Kitchen & Dining',\n",
       "       'Dining & Entertaining', 'Knee-Length', 'Jackets',\n",
       "       'Bags and Purses', 'Purse', 'Collectibles', 'Glass',\n",
       "       'Video Games & Consoles', 'Games', 'Doll', 'Makeup Sets',\n",
       "       'Fleece Jacket', 'Magazines', 'Tunic', 'Home Décor',\n",
       "       'Home Décor Accents', 'Full Zip', 'Music', 'Instrument',\n",
       "       'Fan Shop', 'NBA', 'Skirts', 'Maxi', 'Blouse', 'Home Fragrance',\n",
       "       'Straight, Pencil', 'Electronics for Kids', 'Socks', 'Satchel',\n",
       "       'Clutch', 'Cardigan', 'Mini', 'Slim, Skinny',\n",
       "       'Cell Phones & Smartphones', 'Potty Training', 'Training Pants',\n",
       "       'Coffee & Tea Accessories', 'Boyfriend', 'Makeup Brushes & Tools',\n",
       "       'One-Pieces', 'Pleated', 'Cosmetic Bags', 'Paper Goods',\n",
       "       'Scrapbooking', 'Hats', 'Raincoat', 'Peacoat', 'Boys (4+)', 'Vest',\n",
       "       'Pet Supplies', 'Others', 'Tapestries', 'Costume',\n",
       "       'Cameras & Photography', 'Film Photography', 'nan',\n",
       "       'TV, Audio & Surveillance', 'Headphones', 'Computers & Tablets',\n",
       "       'Drives, Storage & Media', 'Sports Nutrition', 'Antique',\n",
       "       'Souvenir', 'Bedding', 'Sheets & Pillowcases',\n",
       "       'Dress Up & Pretend Play', 'Sunglasses', 'Storage & Organization',\n",
       "       'Baskets & Bins', 'Stuffed Animals & Plush', 'Panties', 'Pumps',\n",
       "       'Sandals', 'Glassware', 'Flats', 'Office supplies',\n",
       "       'Shipping Supplies', 'Exercise', 'Fitness accessories',\n",
       "       'Hair Accessories', 'Turtleneck, Mock', 'Seasonal Décor',\n",
       "       'Halloween', 'Sticker', 'Hooded', 'Sun', 'Casual Pants',\n",
       "       'Consoles', 'Tracksuits & Sweats', 'Poncho', 'Hawaiian',\n",
       "       'Candles & Home Scents', 'Media', 'CD', 'Diapering',\n",
       "       'Wipes & Holders', 'Feeding', 'Bottle-Feeding', 'Casual Shorts',\n",
       "       'Bracelets', 'Bottoms', 'Camera & Photo Accessories',\n",
       "       'Polo, Rugby', 'Nails', \"Children's Books\", 'Action Figure',\n",
       "       'Beach Accessories', 'Lanyard', 'iPad', 'Tablet', 'eBook Access',\n",
       "       'Valentine', 'G-Strings & Thongs', 'Asymmetrical Hem', 'DVD',\n",
       "       'Motorcycle', 'Classic, Straight Leg', 'Weddings', 'Decorations',\n",
       "       'Blu-Ray', 'Hoodie', 'Calendars', \"Kids' Home Store\",\n",
       "       \"Kids' Bedding\", '100 Years or Older', 'Hobbies',\n",
       "       'Kitchen Utensils & Gadgets', 'Hair Care', 'Styling Products',\n",
       "       'Video Game', 'Medical Supplies & Equipment', 'Hip Bag',\n",
       "       'Learning & Education', 'Desktops & All-In-Ones', 'Charm',\n",
       "       'Sweater', 'Scarves & Wraps', 'Dress Pants', 'Children',\n",
       "       'Personal Care', 'Mid-Calf', 'Windbreaker', 'V-Neck', 'Belts',\n",
       "       'Dogs', 'Strollers', 'Chargers & Cradles', 'Top & T-shirts',\n",
       "       'Cleansers', 'Tank', 'Home Surveillance', 'Basic Supplies',\n",
       "       'Serving', 'Tumbler', 'eBook Readers', 'Cover-Ups', 'Puzzles',\n",
       "       'Apparel', 'Boys', 'Scoop Neck', 'Capris, Cropped',\n",
       "       'Interior Accessories', 'Exterior Accessories',\n",
       "       'Blazers & Sport Coats', 'Two Button', 'Slippers',\n",
       "       'Decorative Pillows', 'Laptops & Netbooks', 'Home Appliances',\n",
       "       'Kitchen Appliances', 'Suits & Blazers', 'Pant Suit',\n",
       "       'Candles & Holders', 'Pregnancy & Maternity',\n",
       "       'Breastfeeding Pillows & Stools', 'Wrap',\n",
       "       'Hair & Scalp Treatments', 'Capri, Cropped', 'Window Treatments',\n",
       "       'Trading Cards', 'Animation', 'Education & Teaching', 'Cowl Neck',\n",
       "       'Puffer', 'NFL', 'Dance', 'Ballet', 'Keychain', 'Bottles',\n",
       "       'Digital Cameras', 'Headsets', 'Vintage', 'Gift Wrap',\n",
       "       'Small Appliances', 'Diaper Bags', 'Televisions',\n",
       "       'Scrubs & Body Treatments', 'Handbag', 'Nursery', 'Feet',\n",
       "       'Outdoor', 'Button Down Shirt', 'Henley', 'Sports',\n",
       "       'Comforters & Sets', 'Storage & Containers',\n",
       "       'Home Speakers & Subwoofers', 'Flare', 'Housewares', 'Ceramic',\n",
       "       'Wall Decor', 'Gear', 'Cup',\n",
       "       'Decorative Pillows, Inserts & Covers', 'Baskets',\n",
       "       'Duvet Covers & Sets', 'Ink & Toner', 'Shampoos', 'Jean Jacket',\n",
       "       'Water Sports', 'Religion & Spirituality', 'Sports & Outdoor Play',\n",
       "       'Christmas', 'Brushes & Applicators',\n",
       "       'Stationery & Party Supplies', 'Nail Tools', 'Polo Shirt', 'Vinyl',\n",
       "       'Toy Remote Control & Play Vehicles', 'Towels',\n",
       "       'Backpacks & Carriers', 'Collared', 'Khakis, Chinos', 'Stationery',\n",
       "       'Knit Top', 'Skirts, Skorts & Dresses', 'Bracelet', 'Art',\n",
       "       'Painting', 'One Button', 'Necklace', 'Musical instruments',\n",
       "       'Microphones & Accessories', \"Kids' Room Décor\", 'Vases',\n",
       "       'Studio Recording Equipment', 'Mug',\n",
       "       'Kitchen Knives & Cutlery Accessories', 'Gadgets',\n",
       "       'Arts & Photography', 'Makeup Remover', 'Fitness technology',\n",
       "       'Patch', 'Turtleneck', 'Blankets & Throws', 'Crochet', 'Supplies',\n",
       "       'Bike & Skate', 'Halter', 'A-Line', 'Networking & Connectivity',\n",
       "       'Pacifiers & Accessories', 'Easter', 'Eyewear', 'Bead',\n",
       "       'Straight Leg', 'Cleaning Supplies', 'Air Fresheners', 'Sets',\n",
       "       'Backpacks, Bags & Briefcases', 'Bed Pillows', 'Clocks',\n",
       "       'Kitchen & Table Linens', 'Wristlet',\n",
       "       'Portable Audio & Accessories', 'Lamps& Accessories',\n",
       "       'School Supplies', 'Swim Trunks', 'NCAA', 'Pendant', 'Full Skirt',\n",
       "       'Epilators', 'Baby & Toddler Toys', 'Business & Money',\n",
       "       'Video Gaming Merchandise', 'Magnets', 'Cables & Adapters', 'Bowl',\n",
       "       'Home Decor', 'Wall Hanging', 'Science & Math',\n",
       "       'Christian Books & Bibles', 'Team Sports', 'Football', 'Blazer',\n",
       "       'Book', 'Comics', 'Bakeware', 'Patterns', 'Pets', 'Collar',\n",
       "       'Breastfeeding', 'Girls', 'Sci-Fi, Fantasy', 'Cookware',\n",
       "       'Figurine', 'Writing', 'Mules & Clogs', 'Styling Tools',\n",
       "       'Baby Seats', 'Party Supplies', 'Wine, Beer & Beverage Coolers',\n",
       "       'Poster', 'Furniture', 'Bedroom Furniture', 'Snowboard',\n",
       "       'Shampoo & Conditioner Sets', 'Food Service Equipment & Supplies',\n",
       "       'Shirt', 'Flight', 'Bomber', 'Indoor', 'Outdoor Games', 'Crafting',\n",
       "       'Corset', 'Instrument Accessories', 'Paper Towels',\n",
       "       'Yoga & Pilates', 'Photo Albums & Frames', 'Leg Warmers',\n",
       "       'Jewelry Boxes & Organizers', 'Camera', 'Household Cleaners',\n",
       "       'VHS', 'Organization', 'Journal', 'Components & Parts',\n",
       "       'Baseball & Softball', 'Sweatercoat',\n",
       "       'Lights & Lighting Accessories', 'Golf', \"Men's Golf Clubs\",\n",
       "       'Cloth Diapers', 'Woodworking', 'Cards', 'Health & Baby Care',\n",
       "       'Humidifiers & Vaporizers', 'Disposable Diapers', 'Mirrors',\n",
       "       'Athletic Training', 'MLB', 'Car Seats & Accessories', 'Car Seats',\n",
       "       'Work & Safety', 'Ties', 'Skirt Suit', 'Boxing & MMA', 'Safety',\n",
       "       'Monitors', 'Military', 'Track & Sweat Suits', 'Vest, Sleeveless',\n",
       "       'Oxfords', 'Tshirt', 'Medical Books', 'Luggage',\n",
       "       'Highchairs & Booster Seats', 'Area Rugs & Pads',\n",
       "       'Lifestyle & Cultures', 'Skateboard', 'Belt', 'Suits',\n",
       "       'Three Button', 'Relaxed', 'Wine Accessories', 'Hair Color',\n",
       "       'Tote', 'Thermal Underwear', 'Swings, Jumpers & Bouncers',\n",
       "       'Ceramics and Pottery', 'Baby', 'Car', 'Stringed Instruments',\n",
       "       'Air Conditioners', 'Car Audio, Video & GPS',\n",
       "       'GPS Units & Equipment', 'Fabric', 'Change Purse', 'Sculptures',\n",
       "       'Tweezers', 'Brooch', 'Soccer', 'Waxing', 'Hobo',\n",
       "       'Baby & Child Care', 'Ring', 'Knitting', 'Knitting Supplies',\n",
       "       'DVD & Blu-ray Players', 'Sewing', 'Guitars', 'Tennis & Racquets',\n",
       "       'Conditioners', 'Cookbook', 'Skirt', 'Batteries',\n",
       "       'Printers, Scanners & Supplies', 'Pouch', 'Leather', 'Pin',\n",
       "       'Linen', 'Shrug', 'Family Planning Tests',\n",
       "       'Car Speakers & Systems', 'Backpack', 'Lacrosse', 'Cargo',\n",
       "       'Golf Apparel', 'Gloves', 'Swim Briefs', 'Birthday', 'Magic',\n",
       "       'Clothing & Closet Storage', 'Teethers', 'Game', 'Radio',\n",
       "       'Tricycles, Scooters & Wagons', 'Corduroys', 'Wool',\n",
       "       'Bathing & Skin Care', 'Scarf', 'Fans', 'Needlecraft', 'Plate',\n",
       "       'Asymmetrical', 'Toiletry Kits', 'Bathing Accessories',\n",
       "       'Bed in a Bag', 'Parka', 'Car Subwoofers', 'Overalls', 'Clock',\n",
       "       'Holidays', 'Button', 'Volleyball', 'Thanksgiving', 'Comic', 'NHL',\n",
       "       'Baby Gyms & Playmats', 'Quilts', 'Electronic', 'Geekery',\n",
       "       'Science', 'Food', 'Bathing Tubs & Seats', 'Nursery Décor',\n",
       "       'Novelty & Gag Toys', 'Notebook', 'Bags & Cases',\n",
       "       'Bedspreads & Coverlets', 'Denim', 'Footwear', 'Cleats',\n",
       "       'Tires & Wheels', 'Jacket', 'Car Electronics & Accessories',\n",
       "       'Water Coolers & Filters', '75 To 100 Years',\n",
       "       'DJ, Electronic Music & Karaoke', 'Cage', 'Vacuums & Floor Care',\n",
       "       'Drawings', 'Humidifiers', 'Rainwear',\n",
       "       'Performance Parts & Accessories', 'Shopping Cart Covers',\n",
       "       'Varsity', 'Baseball', 'Gadget', 'Basketball',\n",
       "       'Binoculars & Telescopes', 'Washcloths & Towels',\n",
       "       'Prenatal Monitoring Devices', 'Keyboards', 'Mopping',\n",
       "       'Salt and Pepper Shakers', 'Fishing', 'Photographs', 'Telephone',\n",
       "       'Biography', 'Racks, Shelves & Drawers', 'Dress Shirts',\n",
       "       'Diaper Pails & Refills', 'Paintings', 'Yarn', 'Graphic Design',\n",
       "       'Lenses & Filters', 'Biographies & Memoirs',\n",
       "       'Changing Pads & Covers', 'Wind & Woodwind Instruments',\n",
       "       'Potties & Seats', 'Golf Balls', 'Tripods & Supports', 'Tiered',\n",
       "       'Vests', 'Trash Bags', 'GPS Accessories & Mounts',\n",
       "       'Grooming & Healthcare Kits', 'Laptop', 'Dress', 'Health',\n",
       "       '50 To 75 Years', 'Snowsuits & Bibs', 'Porcelain', 'Dress Shorts',\n",
       "       'Religious', 'Hair Loss Products', 'Home Office Furniture',\n",
       "       'Cross Stitch', 'Stamps', 'Live Sound & Stage', 'All Other Sports',\n",
       "       'Puzzle', 'Wide Leg', 'Laundry Storage & Organization',\n",
       "       'Soaps & Cleansers', 'Pillows', 'Cake Toppers', 'Board Shorts',\n",
       "       'Motorcycle & Powersports', 'Apron', 'Accessory', 'Beads',\n",
       "       'Shampoo', 'Books and Zines', 'Cape', 'Replacement Parts & Tools',\n",
       "       'Pinback Button', 'Home Entertainment Furniture', 'Playards',\n",
       "       'Hockey', 'Planter', 'Amplifiers & Effects', 'Draft Stoppers',\n",
       "       'Dolls and Miniatures', 'Artist Bears', 'Other Furniture', 'Table',\n",
       "       'Fiction', 'Ornaments', 'Strength training', 'Mattress Pads',\n",
       "       'Living Room Furniture', 'Invitations', 'Dress - Flat Front',\n",
       "       'Space Heaters', 'Kitchen', 'Signs', 'Sets & Kits', 'Board, Surf',\n",
       "       'Hat', 'Buckle', 'Poetry', 'Custom', 'Car Security & Convenience',\n",
       "       'Teapot', 'Shampoo Plus Conditioner', 'Light', 'Embroidery',\n",
       "       'Paperweights', 'Baggy, Loose', 'Garment Steamers', 'Afghan',\n",
       "       'Teething Relief', 'Chair', 'Travel Systems', 'History',\n",
       "       'Shams, Bed Skirts & Bed Frame Draperies', 'Frame',\n",
       "       'Home Brewing & Wine Making', 'Garage Storage & Organization',\n",
       "       'Other Accessories', 'Automotive Enthusiast Merchandise',\n",
       "       'Strategy Guides', 'Thermometers', 'Print', 'Patriotic', 'Paper',\n",
       "       'Dehumidifiers', 'Golf Shoes', 'Cuff', 'Candle Holder', 'Pattern',\n",
       "       'Coasters', 'Favors', 'Politics & Social Sciences', 'Equipment',\n",
       "       'Nasal Aspirators', 'Reference', 'Harnesses & Leashes',\n",
       "       'Home Audio', 'Shawl', 'Car Stereos & Components',\n",
       "       'Irons & Ironing Boards', 'Nail Care', 'Watch', 'Mixed Media',\n",
       "       'Tape', 'Nonfiction', 'Bowls', 'Flashes & Flash Accessories',\n",
       "       'Maternity Pillows', 'Sun Protection', 'Pet Lover', 'Toothbrushes',\n",
       "       'Wallet', 'Scale Models', 'Golf Bags', 'Bass Guitars', 'Gift Sets',\n",
       "       \"St Patrick's\", 'Baguette', 'Track Jacket', 'Dinnerware Set',\n",
       "       'Plush', 'How to', 'Papermaking', 'Sweeping',\n",
       "       \"Kids' Furniture, Décor & Storage\", 'Tray', 'Decorating',\n",
       "       'Bath Linen Sets', 'Bouquets', 'Formal', 'Sport', 'Air Purifiers',\n",
       "       'Walkers', 'New Years', 'Bicycle Child Seats & Trailers',\n",
       "       'Pitcher', 'Bathroom Storage & Organization', 'Camcorders',\n",
       "       'Magnet', 'Feather Beds', 'Lighting & Studio', 'Kitchen Safety',\n",
       "       'Sleep Positioners', 'Vase', 'Bubble Bath', 'Action, Adventure',\n",
       "       'Bowling', \"Kids' Furniture\", 'Towel', 'Boxes', 'Art Doll',\n",
       "       'Candles', 'Personalized', 'Illustrated', 'Bathroom Safety',\n",
       "       'Inflatable Beds', 'Activity Centers & Entertainers', 'Standard',\n",
       "       'Kitchen Storage & Organization', 'Lightweight', 'Box',\n",
       "       'Travel Beds', 'Diaper Bag', 'Guest Books', 'Car Video',\n",
       "       'Human Figure Doll', 'Printmaking', 'Hair Coloring Tools',\n",
       "       'Novelty', 'Lithographs, Etchings & Woodcuts', 'Instructional',\n",
       "       'Bath Rugs', 'Presentation', 'Coaster', 'Carpenter', 'Blanket',\n",
       "       'Electrical Safety', 'Cabinet Locks & Straps',\n",
       "       'Drums & Percussion', 'Bookmark', 'Dress - Pleat', 'Slipcovers',\n",
       "       'Bathroom Furniture Sets', 'Hanukkah', 'Cabochon', 'Planters',\n",
       "       'Refrigerators', 'Lighting', 'Illustration', 'Dusting',\n",
       "       'Brass Instruments', 'Teacup', 'Polo', 'Pillows & Stools',\n",
       "       'Doorstops', 'Cuff Links', 'Flatware', 'Freezers & Ice Makers',\n",
       "       'Seat Covers', 'Track & Field', 'Toddler', 'Bathroom Furniture',\n",
       "       'Pillow', 'Competitive Swimwear', 'Origami', 'Basket',\n",
       "       'Diaper Stackers & Caddies', 'Bubble', 'Storage Cabinets',\n",
       "       'Microwaves', 'Scifi', 'Tag', 'Child Friendly', 'Entertaining',\n",
       "       \"Kids' Flatware\", 'Prams', 'Doll Clothing', 'Small Animal',\n",
       "       'Crib Netting', 'Humor', 'Dress Suit', 'Day of the Dead',\n",
       "       'Stained Glass', 'Travel Bathing Kits', 'Advertisement',\n",
       "       'Television', 'Cream and Sugar Set', 'Just Married', 'Fixture',\n",
       "       'Washers & Dryers', 'Outdoor Safety', \"Women's Golf Clubs\",\n",
       "       'Outerwear', 'Finding', 'Carpenter, Utility', 'Necktie',\n",
       "       'Changing Kits', 'Peasant', 'Badminton', 'Office', 'Tuxedo',\n",
       "       \"Kids' Bath\", 'Playard Bedding', 'Leash', 'RV Parts & Accessories',\n",
       "       'Photography', 'Block', 'Animals', 'Cleaning', 'Powders & Lotions',\n",
       "       'Trash & Recycling', 'Sponges', 'Trim', 'Burning',\n",
       "       'Cotton & Swabs', 'Engineering & Transportation',\n",
       "       'Nursery Furniture', 'Grooming', 'Pad', 'Case', 'Casserole',\n",
       "       'Brushes', 'Joggers', 'Needlepoint', 'Replacement Parts',\n",
       "       'Band & Orchestra', 'Storage Solutions', 'Home Bar Furniture',\n",
       "       'St Patricks', 'Chain', 'Collages', 'Something Blue', 'Fantasy',\n",
       "       'Calendar', 'Miniature', 'Boating', 'Patchwork', 'Dishes',\n",
       "       'Nursery Bedding', 'Scale Dollhouse Miniature',\n",
       "       'Historical, Military', 'Platter', 'Pot Holder', 'Shelf',\n",
       "       'Beading', 'Entertainment', 'Gates & Doorways', 'Aceo', 'Quilt',\n",
       "       'Cozy', 'Handkerchief', 'Holiday Décor Storage', 'Dishwashers',\n",
       "       'Mirror', \"New Year's\", 'Religion', 'Felted',\n",
       "       'Fireplaces & Accessories', 'Step Stools',\n",
       "       'Hair Perms & Texturizers', 'Fashion Dolls Apparel', 'Tiles',\n",
       "       'Paint, Body & Trim', 'Fabric Postcard', 'Butter Dish',\n",
       "       'Oils & Fluids', 'Carving', 'Bathroom Shelves', 'Compact',\n",
       "       'Figurines', 'Double Breasted', 'Hair Relaxers', 'Safety Caps',\n",
       "       'Price Guides & Publications', 'Doormats', 'Zipper', 'Primitive',\n",
       "       'House', 'International Publications', 'Pet Food',\n",
       "       'Non-Slip Bath Mats', 'Bear', 'Bathroom', 'Horror', 'Bed',\n",
       "       'Linens', 'Garbage Disposals', 'Edge & Corner Guards',\n",
       "       'Doll Clothes'], dtype=object)"
      ]
     },
     "execution_count": 31,
     "metadata": {},
     "output_type": "execute_result"
    }
   ],
   "source": [
    "unique_categories"
   ]
  },
  {
   "cell_type": "code",
   "execution_count": null,
   "metadata": {},
   "outputs": [],
   "source": []
  }
 ],
 "metadata": {
  "kernelspec": {
   "display_name": "Python 3",
   "language": "python",
   "name": "python3"
  },
  "language_info": {
   "codemirror_mode": {
    "name": "ipython",
    "version": 3
   },
   "file_extension": ".py",
   "mimetype": "text/x-python",
   "name": "python",
   "nbconvert_exporter": "python",
   "pygments_lexer": "ipython3",
   "version": "3.6.9"
  }
 },
 "nbformat": 4,
 "nbformat_minor": 4
}
