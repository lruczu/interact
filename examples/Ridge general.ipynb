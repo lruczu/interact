{
 "cells": [
  {
   "cell_type": "code",
   "execution_count": 1,
   "metadata": {},
   "outputs": [],
   "source": [
    "from functools import reduce\n",
    "from typing import List\n",
    "\n",
    "import numpy as np\n",
    "import pandas as pd\n",
    "from sklearn.feature_extraction.text import CountVectorizer\n",
    "from tensorflow.keras.callbacks import EarlyStopping\n",
    "from tensorflow.keras.layers import Add\n",
    "from tensorflow.keras.models import Model\n",
    "\n",
    "from interact.fields import FieldsManager, SparseField\n",
    "from interact.layers import SparseLinear, AddBias\n",
    "from interact.utils import to_sequences\n",
    "\n",
    "from utils import get_dataset, DataSet, cost, MercariTranformer"
   ]
  },
  {
   "cell_type": "code",
   "execution_count": 2,
   "metadata": {},
   "outputs": [],
   "source": [
    "train = get_dataset(DataSet.Train)\n",
    "valid = get_dataset(DataSet.Valid)"
   ]
  },
  {
   "cell_type": "code",
   "execution_count": 3,
   "metadata": {},
   "outputs": [],
   "source": [
    "mercari_transformer = MercariTranformer(\n",
    "    CountVectorizer(min_df=10),\n",
    "    CountVectorizer(min_df=10),\n",
    ")"
   ]
  },
  {
   "cell_type": "code",
   "execution_count": 4,
   "metadata": {},
   "outputs": [
    {
     "name": "stdout",
     "output_type": "stream",
     "text": [
      "CPU times: user 53.2 s, sys: 1.25 s, total: 54.4 s\n",
      "Wall time: 54.4 s\n"
     ]
    }
   ],
   "source": [
    "%%time\n",
    "mercari_transformer.fit(pd.concat([train, valid], axis=0, ignore_index=True))"
   ]
  },
  {
   "cell_type": "code",
   "execution_count": 5,
   "metadata": {},
   "outputs": [
    {
     "name": "stdout",
     "output_type": "stream",
     "text": [
      "CPU times: user 1min 57s, sys: 577 ms, total: 1min 58s\n",
      "Wall time: 1min 58s\n"
     ]
    }
   ],
   "source": [
    "%%time\n",
    "d_train = mercari_transformer.transform(train)"
   ]
  },
  {
   "cell_type": "code",
   "execution_count": 6,
   "metadata": {},
   "outputs": [
    {
     "name": "stdout",
     "output_type": "stream",
     "text": [
      "CPU times: user 21 s, sys: 24.2 ms, total: 21 s\n",
      "Wall time: 21 s\n"
     ]
    }
   ],
   "source": [
    "%%time\n",
    "d_valid = mercari_transformer.transform(valid)"
   ]
  },
  {
   "cell_type": "code",
   "execution_count": 7,
   "metadata": {},
   "outputs": [],
   "source": [
    "f_name = SparseField(\n",
    "    name='name', \n",
    "    vocabulary_size=16543,\n",
    "    m=10, \n",
    "    d=5,\n",
    ")\n",
    "\n",
    "f_description = SparseField(\n",
    "    name='description', \n",
    "    vocabulary_size=30164,\n",
    "    m=169, \n",
    "    d=5,\n",
    ")\n",
    "\n",
    "f_brand = SparseField(\n",
    "    name='brand', \n",
    "    vocabulary_size=4658,\n",
    "    m=1, \n",
    "    d=5,\n",
    ")\n",
    "\n",
    "f_condition = SparseField(\n",
    "    name='item_condition_id', \n",
    "    vocabulary_size=5,\n",
    "    m=1, \n",
    "    d=5,\n",
    ")\n",
    "\n",
    "f_shipping = SparseField(\n",
    "    name='shipping', \n",
    "    vocabulary_size=2,\n",
    "    m=1, \n",
    "    d=5,\n",
    ")\n",
    "\n",
    "f_category = SparseField(\n",
    "    name='category', \n",
    "    vocabulary_size=946,\n",
    "    m=5, \n",
    "    d=5,\n",
    ")"
   ]
  },
  {
   "cell_type": "code",
   "execution_count": null,
   "metadata": {},
   "outputs": [],
   "source": [
    "fields = [\n",
    "    f_name,\n",
    "    f_description,\n",
    "    f_brand,\n",
    "    f_condition,\n",
    "    f_shipping,\n",
    "    f_category\n",
    "]"
   ]
  },
  {
   "cell_type": "code",
   "execution_count": null,
   "metadata": {},
   "outputs": [],
   "source": [
    "FieldsManager.validate_fields(fields)"
   ]
  },
  {
   "cell_type": "code",
   "execution_count": null,
   "metadata": {},
   "outputs": [],
   "source": [
    "inputs = FieldsManager.fields2inputs(fields)"
   ]
  },
  {
   "cell_type": "code",
   "execution_count": 12,
   "metadata": {},
   "outputs": [],
   "source": [
    "linear_terms = [\n",
    "        FieldsManager.input2linear(i, field, 0.001)\n",
    "         for i, field in zip(inputs, fields)\n",
    "    ]"
   ]
  },
  {
   "cell_type": "code",
   "execution_count": 13,
   "metadata": {},
   "outputs": [
    {
     "data": {
      "text/plain": [
       "[<tf.Tensor 'sparse_linear/Identity:0' shape=(None, 1) dtype=float32>,\n",
       " <tf.Tensor 'sparse_linear_1/Identity:0' shape=(None, 1) dtype=float32>,\n",
       " <tf.Tensor 'sparse_linear_2/Identity:0' shape=(None, 1) dtype=float32>,\n",
       " <tf.Tensor 'sparse_linear_3/Identity:0' shape=(None, 1) dtype=float32>,\n",
       " <tf.Tensor 'sparse_linear_4/Identity:0' shape=(None, 1) dtype=float32>,\n",
       " <tf.Tensor 'sparse_linear_5/Identity:0' shape=(None, 1) dtype=float32>]"
      ]
     },
     "execution_count": 13,
     "metadata": {},
     "output_type": "execute_result"
    }
   ],
   "source": [
    "linear_terms"
   ]
  },
  {
   "cell_type": "code",
   "execution_count": 14,
   "metadata": {},
   "outputs": [],
   "source": [
    "linear_part = AddBias()(Add()(linear_terms) if len(linear_terms) > 1 else linear_terms[0])"
   ]
  },
  {
   "cell_type": "code",
   "execution_count": 15,
   "metadata": {},
   "outputs": [
    {
     "data": {
      "text/plain": [
       "<tf.Tensor 'add_bias/Identity:0' shape=(None, 1) dtype=float32>"
      ]
     },
     "execution_count": 15,
     "metadata": {},
     "output_type": "execute_result"
    }
   ],
   "source": [
    "linear_part"
   ]
  },
  {
   "cell_type": "code",
   "execution_count": 16,
   "metadata": {},
   "outputs": [],
   "source": [
    "model = Model(inputs, linear_part)\n",
    "model.compile(optimizer='sgd', loss='mse')"
   ]
  },
  {
   "cell_type": "code",
   "execution_count": 17,
   "metadata": {},
   "outputs": [],
   "source": [
    "train_inputs = []\n",
    "train_inputs.append(to_sequences(d_train[\"name\"], 10))\n",
    "train_inputs.append(to_sequences(d_train[\"item_description\"], 169))\n",
    "train_inputs.append(to_sequences(d_train[\"brand_name\"], 1))\n",
    "train_inputs.append((d_train[\"item_condition_id\"].argmax(axis=1) + 1).reshape((-1, 1)))\n",
    "train_inputs.append((d_train[\"shipping\"] + 1).values.reshape((-1, 1)))\n",
    "train_inputs.append(d_train[\"category_name\"])"
   ]
  },
  {
   "cell_type": "code",
   "execution_count": 18,
   "metadata": {},
   "outputs": [],
   "source": [
    "valid_inputs = []\n",
    "valid_inputs.append(to_sequences(d_valid[\"name\"], 10))\n",
    "valid_inputs.append(to_sequences(d_valid[\"item_description\"], 169))\n",
    "valid_inputs.append(to_sequences(d_valid[\"brand_name\"], 1))\n",
    "valid_inputs.append((d_valid[\"item_condition_id\"].argmax(axis=1) + 1).reshape((-1, 1)))\n",
    "valid_inputs.append((d_valid[\"shipping\"] + 1).values.reshape((-1, 1)))\n",
    "valid_inputs.append(d_valid[\"category_name\"])"
   ]
  },
  {
   "cell_type": "code",
   "execution_count": 19,
   "metadata": {},
   "outputs": [
    {
     "data": {
      "text/plain": [
       "(1082535, 5)"
      ]
     },
     "execution_count": 19,
     "metadata": {},
     "output_type": "execute_result"
    }
   ],
   "source": [
    "train_inputs[-1].shape"
   ]
  },
  {
   "cell_type": "code",
   "execution_count": 20,
   "metadata": {},
   "outputs": [
    {
     "data": {
      "text/plain": [
       "(1082535, 5)"
      ]
     },
     "execution_count": 20,
     "metadata": {},
     "output_type": "execute_result"
    }
   ],
   "source": [
    "train_inputs[-1].shape"
   ]
  },
  {
   "cell_type": "code",
   "execution_count": 21,
   "metadata": {},
   "outputs": [
    {
     "name": "stdout",
     "output_type": "stream",
     "text": [
      "Train on 1082535 samples, validate on 200000 samples\n",
      "Epoch 1/10\n"
     ]
    },
    {
     "name": "stderr",
     "output_type": "stream",
     "text": [
      "/home/sigmo/deep/lib/python3.6/site-packages/tensorflow_core/python/framework/indexed_slices.py:433: UserWarning: Converting sparse IndexedSlices to a dense Tensor of unknown shape. This may consume a large amount of memory.\n",
      "  \"Converting sparse IndexedSlices to a dense Tensor of unknown shape. \"\n"
     ]
    },
    {
     "name": "stdout",
     "output_type": "stream",
     "text": [
      "1082535/1082535 [==============================] - 73s 68us/sample - loss: 0.3119 - val_loss: 0.2928\n",
      "Epoch 2/10\n",
      "1082535/1082535 [==============================] - 66s 61us/sample - loss: 0.2907 - val_loss: 0.2961\n"
     ]
    },
    {
     "data": {
      "text/plain": [
       "<tensorflow.python.keras.callbacks.History at 0x7f8143bfe208>"
      ]
     },
     "execution_count": 21,
     "metadata": {},
     "output_type": "execute_result"
    }
   ],
   "source": [
    "model.fit(\n",
    "    train_inputs, \n",
    "    np.log1p(train['price']),\n",
    "    epochs=10,\n",
    "    batch_size=32,\n",
    "    shuffle=True,\n",
    "    validation_data=(\n",
    "        valid_inputs,\n",
    "        np.log1p(valid['price'])\n",
    "    ), \n",
    "    callbacks=[EarlyStopping()]\n",
    ")"
   ]
  },
  {
   "cell_type": "code",
   "execution_count": 22,
   "metadata": {},
   "outputs": [],
   "source": [
    "y_pred = np.expm1(model.predict(valid_inputs)).flatten()"
   ]
  },
  {
   "cell_type": "code",
   "execution_count": 41,
   "metadata": {},
   "outputs": [
    {
     "data": {
      "text/plain": [
       "0.6095028814710424"
      ]
     },
     "execution_count": 41,
     "metadata": {},
     "output_type": "execute_result"
    }
   ],
   "source": [
    "cost(true=valid['price'], pred=y_pred)"
   ]
  },
  {
   "cell_type": "code",
   "execution_count": 51,
   "metadata": {},
   "outputs": [
    {
     "data": {
      "text/plain": [
       "0.5613514051755778"
      ]
     },
     "execution_count": 51,
     "metadata": {},
     "output_type": "execute_result"
    }
   ],
   "source": [
    "cost(true=valid['price'], pred=y_pred)"
   ]
  },
  {
   "cell_type": "code",
   "execution_count": 61,
   "metadata": {},
   "outputs": [
    {
     "data": {
      "text/plain": [
       "0.546719594823619"
      ]
     },
     "execution_count": 61,
     "metadata": {},
     "output_type": "execute_result"
    }
   ],
   "source": [
    "cost(true=valid['price'], pred=y_pred)"
   ]
  },
  {
   "cell_type": "code",
   "execution_count": 22,
   "metadata": {},
   "outputs": [
    {
     "data": {
      "text/plain": [
       "0.5455225279000435"
      ]
     },
     "execution_count": 22,
     "metadata": {},
     "output_type": "execute_result"
    }
   ],
   "source": [
    "cost(true=valid['price'], pred=y_pred)"
   ]
  },
  {
   "cell_type": "code",
   "execution_count": 22,
   "metadata": {},
   "outputs": [
    {
     "data": {
      "text/plain": [
       "0.5404183729077965"
      ]
     },
     "execution_count": 22,
     "metadata": {},
     "output_type": "execute_result"
    }
   ],
   "source": [
    "cost(true=valid['price'], pred=y_pred)"
   ]
  },
  {
   "cell_type": "code",
   "execution_count": 23,
   "metadata": {},
   "outputs": [
    {
     "data": {
      "text/plain": [
       "0.5219109465479098"
      ]
     },
     "execution_count": 23,
     "metadata": {},
     "output_type": "execute_result"
    }
   ],
   "source": [
    "cost(true=valid['price'], pred=y_pred)"
   ]
  }
 ],
 "metadata": {
  "kernelspec": {
   "display_name": "Python 3",
   "language": "python",
   "name": "python3"
  },
  "language_info": {
   "codemirror_mode": {
    "name": "ipython",
    "version": 3
   },
   "file_extension": ".py",
   "mimetype": "text/x-python",
   "name": "python",
   "nbconvert_exporter": "python",
   "pygments_lexer": "ipython3",
   "version": "3.6.9"
  }
 },
 "nbformat": 4,
 "nbformat_minor": 4
}
