{
 "cells": [
  {
   "cell_type": "code",
   "execution_count": 2,
   "metadata": {},
   "outputs": [],
   "source": [
    "from functools import reduce\n",
    "from typing import List\n",
    "\n",
    "import numpy as np\n",
    "import pandas as pd\n",
    "from sklearn.feature_extraction.text import CountVectorizer\n",
    "from tensorflow.keras.callbacks import EarlyStopping\n",
    "from tensorflow.keras.layers import Add\n",
    "from tensorflow.keras.models import Model\n",
    "\n",
    "from interact.fields import FieldsManager, SparseField\n",
    "from interact.layers import SparseLinear, AddBias\n",
    "from interact.models import AFM\n",
    "from interact.utils import to_sequences\n",
    "\n",
    "from utils import get_dataset, DataSet, cost, MercariTranformer"
   ]
  },
  {
   "cell_type": "code",
   "execution_count": 3,
   "metadata": {},
   "outputs": [],
   "source": [
    "train = get_dataset(DataSet.Train)\n",
    "valid = get_dataset(DataSet.Valid)"
   ]
  },
  {
   "cell_type": "code",
   "execution_count": 4,
   "metadata": {},
   "outputs": [],
   "source": [
    "mercari_transformer = MercariTranformer(\n",
    "    CountVectorizer(min_df=10),\n",
    "    CountVectorizer(min_df=10),\n",
    ")"
   ]
  },
  {
   "cell_type": "code",
   "execution_count": 5,
   "metadata": {},
   "outputs": [
    {
     "name": "stdout",
     "output_type": "stream",
     "text": [
      "CPU times: user 59.1 s, sys: 1.21 s, total: 1min\n",
      "Wall time: 1min\n"
     ]
    }
   ],
   "source": [
    "%%time\n",
    "mercari_transformer.fit(pd.concat([train, valid], axis=0, ignore_index=True))"
   ]
  },
  {
   "cell_type": "code",
   "execution_count": 6,
   "metadata": {},
   "outputs": [
    {
     "name": "stdout",
     "output_type": "stream",
     "text": [
      "CPU times: user 1min 58s, sys: 662 ms, total: 1min 59s\n",
      "Wall time: 1min 59s\n"
     ]
    }
   ],
   "source": [
    "%%time\n",
    "d_train = mercari_transformer.transform(train)"
   ]
  },
  {
   "cell_type": "code",
   "execution_count": 7,
   "metadata": {},
   "outputs": [
    {
     "name": "stdout",
     "output_type": "stream",
     "text": [
      "CPU times: user 21.7 s, sys: 4.41 ms, total: 21.7 s\n",
      "Wall time: 21.7 s\n"
     ]
    }
   ],
   "source": [
    "%%time\n",
    "d_valid = mercari_transformer.transform(valid)"
   ]
  },
  {
   "cell_type": "code",
   "execution_count": 8,
   "metadata": {},
   "outputs": [],
   "source": [
    "f_name = SparseField(\n",
    "    name='name', \n",
    "    vocabulary_size=16543,\n",
    "    m=10, \n",
    "    d=5,\n",
    ")\n",
    "\n",
    "f_description = SparseField(\n",
    "    name='description', \n",
    "    vocabulary_size=30164,\n",
    "    m=169, \n",
    "    d=5,\n",
    ")\n",
    "\n",
    "f_brand = SparseField(\n",
    "    name='brand', \n",
    "    vocabulary_size=4658,\n",
    "    m=1, \n",
    "    d=5,\n",
    ")\n",
    "\n",
    "f_condition = SparseField(\n",
    "    name='item_condition_id', \n",
    "    vocabulary_size=5,\n",
    "    m=1, \n",
    "    d=5,\n",
    ")\n",
    "\n",
    "f_shipping = SparseField(\n",
    "    name='shipping', \n",
    "    vocabulary_size=2,\n",
    "    m=1, \n",
    "    d=5,\n",
    ")\n",
    "\n",
    "f_category = SparseField(\n",
    "    name='category', \n",
    "    vocabulary_size=946,\n",
    "    m=5, \n",
    "    d=5,\n",
    ")"
   ]
  },
  {
   "cell_type": "code",
   "execution_count": 9,
   "metadata": {},
   "outputs": [],
   "source": [
    "fields = [\n",
    "    f_name,\n",
    "    f_description,\n",
    "    f_brand,\n",
    "    f_condition,\n",
    "    f_shipping,\n",
    "    f_category\n",
    "]"
   ]
  },
  {
   "cell_type": "code",
   "execution_count": 10,
   "metadata": {},
   "outputs": [],
   "source": [
    "afm = AFM(fields, l2_penalty=0.001)"
   ]
  },
  {
   "cell_type": "code",
   "execution_count": 11,
   "metadata": {},
   "outputs": [],
   "source": [
    "afm.compile(optimizer='sgd', loss='mse')"
   ]
  },
  {
   "cell_type": "code",
   "execution_count": 12,
   "metadata": {},
   "outputs": [],
   "source": [
    "train_inputs = []\n",
    "train_inputs.append(to_sequences(d_train[\"name\"], 10))\n",
    "train_inputs.append(to_sequences(d_train[\"item_description\"], 169))\n",
    "train_inputs.append(to_sequences(d_train[\"brand_name\"], 1))\n",
    "train_inputs.append((d_train[\"item_condition_id\"].argmax(axis=1) + 1).reshape((-1, 1)))\n",
    "train_inputs.append((d_train[\"shipping\"] + 1).values.reshape((-1, 1)))\n",
    "train_inputs.append(d_train[\"category_name\"])"
   ]
  },
  {
   "cell_type": "code",
   "execution_count": 13,
   "metadata": {},
   "outputs": [],
   "source": [
    "valid_inputs = []\n",
    "valid_inputs.append(to_sequences(d_valid[\"name\"], 10))\n",
    "valid_inputs.append(to_sequences(d_valid[\"item_description\"], 169))\n",
    "valid_inputs.append(to_sequences(d_valid[\"brand_name\"], 1))\n",
    "valid_inputs.append((d_valid[\"item_condition_id\"].argmax(axis=1) + 1).reshape((-1, 1)))\n",
    "valid_inputs.append((d_valid[\"shipping\"] + 1).values.reshape((-1, 1)))\n",
    "valid_inputs.append(d_valid[\"category_name\"])"
   ]
  },
  {
   "cell_type": "code",
   "execution_count": 14,
   "metadata": {},
   "outputs": [
    {
     "name": "stdout",
     "output_type": "stream",
     "text": [
      "Train on 1082535 samples, validate on 200000 samples\n",
      "Epoch 1/10\n"
     ]
    },
    {
     "name": "stderr",
     "output_type": "stream",
     "text": [
      "/home/sigmo/deep/lib/python3.6/site-packages/tensorflow_core/python/framework/indexed_slices.py:433: UserWarning: Converting sparse IndexedSlices to a dense Tensor of unknown shape. This may consume a large amount of memory.\n",
      "  \"Converting sparse IndexedSlices to a dense Tensor of unknown shape. \"\n",
      "/home/sigmo/deep/lib/python3.6/site-packages/tensorflow_core/python/framework/indexed_slices.py:433: UserWarning: Converting sparse IndexedSlices to a dense Tensor of unknown shape. This may consume a large amount of memory.\n",
      "  \"Converting sparse IndexedSlices to a dense Tensor of unknown shape. \"\n"
     ]
    },
    {
     "name": "stdout",
     "output_type": "stream",
     "text": [
      "1082535/1082535 [==============================] - 174s 161us/sample - loss: 0.4317 - val_loss: 0.3501\n",
      "Epoch 2/10\n",
      "1082535/1082535 [==============================] - 165s 153us/sample - loss: 0.3217 - val_loss: 0.3053\n",
      "Epoch 3/10\n",
      "1082535/1082535 [==============================] - 152s 141us/sample - loss: 0.2975 - val_loss: 0.2941\n",
      "Epoch 4/10\n",
      "1082535/1082535 [==============================] - 142s 132us/sample - loss: 0.2913 - val_loss: 0.2911\n",
      "Epoch 5/10\n",
      "1082535/1082535 [==============================] - 142s 131us/sample - loss: 0.2897 - val_loss: 0.2905\n",
      "Epoch 6/10\n",
      "1082535/1082535 [==============================] - 150s 139us/sample - loss: 0.2893 - val_loss: 0.2903\n",
      "Epoch 7/10\n",
      "1082535/1082535 [==============================] - 166s 153us/sample - loss: 0.2892 - val_loss: 0.2898\n",
      "Epoch 8/10\n",
      "1082535/1082535 [==============================] - 164s 152us/sample - loss: 0.2891 - val_loss: 0.2902\n"
     ]
    },
    {
     "data": {
      "text/plain": [
       "<tensorflow.python.keras.callbacks.History at 0x7f1a55e5cd30>"
      ]
     },
     "execution_count": 14,
     "metadata": {},
     "output_type": "execute_result"
    }
   ],
   "source": [
    "afm.fit(\n",
    "    train_inputs, \n",
    "    np.log1p(train['price']),\n",
    "    epochs=10,\n",
    "    batch_size=32,\n",
    "    shuffle=True,\n",
    "    validation_data=(\n",
    "        valid_inputs,\n",
    "        np.log1p(valid['price'])\n",
    "    ), \n",
    "    callbacks=[EarlyStopping()]\n",
    ")"
   ]
  },
  {
   "cell_type": "code",
   "execution_count": 15,
   "metadata": {},
   "outputs": [],
   "source": [
    "y_pred = np.expm1(afm.predict(valid_inputs)).flatten()"
   ]
  },
  {
   "cell_type": "code",
   "execution_count": 16,
   "metadata": {},
   "outputs": [
    {
     "data": {
      "text/plain": [
       "0.5139392792610123"
      ]
     },
     "execution_count": 16,
     "metadata": {},
     "output_type": "execute_result"
    }
   ],
   "source": [
    "cost(true=valid['price'], pred=y_pred)"
   ]
  }
 ],
 "metadata": {
  "kernelspec": {
   "display_name": "Python 3",
   "language": "python",
   "name": "python3"
  },
  "language_info": {
   "codemirror_mode": {
    "name": "ipython",
    "version": 3
   },
   "file_extension": ".py",
   "mimetype": "text/x-python",
   "name": "python",
   "nbconvert_exporter": "python",
   "pygments_lexer": "ipython3",
   "version": "3.6.9"
  }
 },
 "nbformat": 4,
 "nbformat_minor": 4
}
